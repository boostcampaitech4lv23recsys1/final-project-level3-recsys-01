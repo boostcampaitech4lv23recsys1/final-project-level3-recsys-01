{
 "cells": [
  {
   "cell_type": "code",
   "execution_count": 2,
   "id": "1936c273-6e10-42cd-8443-7a7e77a6eb38",
   "metadata": {},
   "outputs": [],
   "source": [
    "import os\n",
    "import sys\n",
    "\n",
    "sys.path.append(os.path.dirname(os.path.abspath('.')))\n",
    "\n",
    "import pandas as pd\n",
    "from utils import GCSHelper\n",
    "from preprocessing.basic_preprocessing import *\n",
    "import matplotlib.pyplot as plt\n",
    "import seaborn as sns\n",
    "from scipy.stats import skew, kurtosis\n",
    "from itertools import chain\n",
    "from collections import Counter\n",
    "import numpy as np"
   ]
  },
  {
   "cell_type": "markdown",
   "id": "d444d5f5-731f-4012-9707-656fa4a2c3bb",
   "metadata": {},
   "source": [
    "# 0. Import Data"
   ]
  },
  {
   "cell_type": "code",
   "execution_count": 4,
   "id": "e978567c-6239-4438-b883-8108c02ee686",
   "metadata": {},
   "outputs": [],
   "source": [
    "gcshelper = GCSHelper('../keys/gcs_key.json')\n",
    "data = gcshelper.read_df_from_gcs('csv/user_total/user_detail_total.csv')"
   ]
  },
  {
   "cell_type": "markdown",
   "id": "c8725ea6-e7dd-4c2d-acb2-6fda13e80672",
   "metadata": {},
   "source": [
    "# 1. 기본 전처리"
   ]
  },
  {
   "cell_type": "code",
   "execution_count": 5,
   "id": "878e58d8-f2c6-4688-af02-718e31a1676e",
   "metadata": {},
   "outputs": [],
   "source": [
    "# int로 나타낼 것을 나타내면서 exp 열 생성\n",
    "data = get_int_basic(data)\n",
    "# 기록이 없습니다. 인 것을 int (-1)로 나타냄\n",
    "data = get_int_record(data)\n",
    "# last access 꼴 통일\n",
    "data['last_access'] = data['last_access'].apply(lambda x : x.replace('/', '-').replace('_', '-'))"
   ]
  },
  {
   "cell_type": "code",
   "execution_count": 6,
   "id": "784586f1-b09c-46fa-8f1f-6d28a807d8ba",
   "metadata": {},
   "outputs": [
    {
     "data": {
      "text/plain": [
       "Index(['nickname', 'codi-hat', 'codi-hair', 'codi-face', 'codi-top',\n",
       "       'codi-bottom', 'codi-shoes', 'codi-weapon', 'level', 'class',\n",
       "       'popularity', 'total_ranking', 'world_ranking', 'class_world_ranking',\n",
       "       'class_total_ranking', 'guild', 'last_access', 'mureung', 'theseed',\n",
       "       'union', 'achievement', 'cur_chr', 'gcs_image_path', 'exp'],\n",
       "      dtype='object')"
      ]
     },
     "execution_count": 6,
     "metadata": {},
     "output_type": "execute_result"
    }
   ],
   "source": [
    "data.columns"
   ]
  },
  {
   "cell_type": "markdown",
   "id": "92ab6bc1-ccde-4a65-912f-cc25acdc9102",
   "metadata": {
    "tags": []
   },
   "source": [
    "# 2. Numeric 분포 확인"
   ]
  },
  {
   "cell_type": "markdown",
   "id": "6b9fe23b-3743-49a4-8edf-0a406df750db",
   "metadata": {},
   "source": [
    "## 2-1. level"
   ]
  },
  {
   "cell_type": "code",
   "execution_count": 6,
   "id": "5544dfab-cdf7-4c7a-9421-13ae99ae3eac",
   "metadata": {},
   "outputs": [
    {
     "data": {
      "text/plain": [
       "count    1.317420e+06\n",
       "mean     2.500174e+02\n",
       "std      1.204625e+01\n",
       "min      1.000000e+01\n",
       "25%      2.400000e+02\n",
       "50%      2.500000e+02\n",
       "75%      2.560000e+02\n",
       "max      2.930000e+02\n",
       "Name: level, dtype: float64"
      ]
     },
     "execution_count": 6,
     "metadata": {},
     "output_type": "execute_result"
    }
   ],
   "source": [
    "data['level'].describe()"
   ]
  },
  {
   "cell_type": "code",
   "execution_count": 7,
   "id": "a15e8e42-e3e0-4f02-ba96-9fddaf7fdd9b",
   "metadata": {},
   "outputs": [
    {
     "data": {
      "text/html": [
       "<div>\n",
       "<style scoped>\n",
       "    .dataframe tbody tr th:only-of-type {\n",
       "        vertical-align: middle;\n",
       "    }\n",
       "\n",
       "    .dataframe tbody tr th {\n",
       "        vertical-align: top;\n",
       "    }\n",
       "\n",
       "    .dataframe thead th {\n",
       "        text-align: right;\n",
       "    }\n",
       "</style>\n",
       "<table border=\"1\" class=\"dataframe\">\n",
       "  <thead>\n",
       "    <tr style=\"text-align: right;\">\n",
       "      <th></th>\n",
       "      <th>level</th>\n",
       "      <th>total_ranking</th>\n",
       "    </tr>\n",
       "  </thead>\n",
       "  <tbody>\n",
       "    <tr>\n",
       "      <th>572909</th>\n",
       "      <td>31</td>\n",
       "      <td>58245823</td>\n",
       "    </tr>\n",
       "    <tr>\n",
       "      <th>585504</th>\n",
       "      <td>100</td>\n",
       "      <td>44728819</td>\n",
       "    </tr>\n",
       "    <tr>\n",
       "      <th>587687</th>\n",
       "      <td>35</td>\n",
       "      <td>58090953</td>\n",
       "    </tr>\n",
       "    <tr>\n",
       "      <th>594250</th>\n",
       "      <td>196</td>\n",
       "      <td>14938306</td>\n",
       "    </tr>\n",
       "    <tr>\n",
       "      <th>617130</th>\n",
       "      <td>10</td>\n",
       "      <td>59598739</td>\n",
       "    </tr>\n",
       "    <tr>\n",
       "      <th>641086</th>\n",
       "      <td>181</td>\n",
       "      <td>54621879</td>\n",
       "    </tr>\n",
       "    <tr>\n",
       "      <th>736117</th>\n",
       "      <td>10</td>\n",
       "      <td>189459</td>\n",
       "    </tr>\n",
       "    <tr>\n",
       "      <th>775341</th>\n",
       "      <td>10</td>\n",
       "      <td>59518415</td>\n",
       "    </tr>\n",
       "    <tr>\n",
       "      <th>863521</th>\n",
       "      <td>31</td>\n",
       "      <td>57898632</td>\n",
       "    </tr>\n",
       "  </tbody>\n",
       "</table>\n",
       "</div>"
      ],
      "text/plain": [
       "        level  total_ranking\n",
       "572909     31       58245823\n",
       "585504    100       44728819\n",
       "587687     35       58090953\n",
       "594250    196       14938306\n",
       "617130     10       59598739\n",
       "641086    181       54621879\n",
       "736117     10         189459\n",
       "775341     10       59518415\n",
       "863521     31       57898632"
      ]
     },
     "execution_count": 7,
     "metadata": {},
     "output_type": "execute_result"
    }
   ],
   "source": [
    "# 레벨이랑 랭킹이 너무 낮은 유저들이 긁혀 있는데 이건 User_info와 detail을 크롤링하는 간격 사이에\n",
    "# 닉네임을 변경했기 때문에 일어난 일으로 어쩔 수 없다는 결론\n",
    "data[data['level']<200][['level', 'total_ranking']]"
   ]
  },
  {
   "cell_type": "code",
   "execution_count": 25,
   "id": "0725555a-4259-4590-b977-7844ea656ff6",
   "metadata": {},
   "outputs": [
    {
     "data": {
      "text/plain": [
       "[<matplotlib.axis.XTick at 0x7fa43535db80>,\n",
       " <matplotlib.axis.XTick at 0x7fa43535db50>,\n",
       " <matplotlib.axis.XTick at 0x7fa43b3733a0>,\n",
       " <matplotlib.axis.XTick at 0x7fa437722400>,\n",
       " <matplotlib.axis.XTick at 0x7fa437722eb0>,\n",
       " <matplotlib.axis.XTick at 0x7fa4376a79a0>,\n",
       " <matplotlib.axis.XTick at 0x7fa4376a7be0>,\n",
       " <matplotlib.axis.XTick at 0x7fa4376ae6d0>,\n",
       " <matplotlib.axis.XTick at 0x7fa4376aef40>,\n",
       " <matplotlib.axis.XTick at 0x7fa4376b3c70>,\n",
       " <matplotlib.axis.XTick at 0x7fa43535d790>,\n",
       " <matplotlib.axis.XTick at 0x7fa435627b20>,\n",
       " <matplotlib.axis.XTick at 0x7fa4356274c0>,\n",
       " <matplotlib.axis.XTick at 0x7fa4376d62b0>,\n",
       " <matplotlib.axis.XTick at 0x7fa4376d6d60>,\n",
       " <matplotlib.axis.XTick at 0x7fa4376d6520>]"
      ]
     },
     "execution_count": 25,
     "metadata": {},
     "output_type": "execute_result"
    },
    {
     "data": {
      "image/png": "[encoded data removed]",
      "text/plain": [
       "<Figure size 640x480 with 1 Axes>"
      ]
     },
     "metadata": {},
     "output_type": "display_data"
    }
   ],
   "source": [
    "# 220 이상만 살펴보는 그래프 (그 이하는 이상치임)\n",
    "level_cut = data[data['level']>=220]['level'].tolist()\n",
    "level_plot = sns.histplot(level_cut, kde=True, binwidth=0.5)\n",
    "level_plot.set_xticks(range(220,300,5))"
   ]
  },
  {
   "cell_type": "code",
   "execution_count": 26,
   "id": "725a0082-d5f2-4280-b60a-2add225b4506",
   "metadata": {},
   "outputs": [
    {
     "data": {
      "text/plain": [
       "<AxesSubplot: ylabel='Count'>"
      ]
     },
     "execution_count": 26,
     "metadata": {},
     "output_type": "execute_result"
    },
    {
     "data": {
      "image/png": "[encoded data removed]",
      "text/plain": [
       "<Figure size 640x480 with 1 Axes>"
      ]
     },
     "metadata": {},
     "output_type": "display_data"
    }
   ],
   "source": [
    "level_cut = data[data['level']>=250]['level'].tolist()\n",
    "level_plot = sns.histplot(level_cut, kde=True, binwidth=0.5)\n",
    "level_plot"
   ]
  },
  {
   "cell_type": "markdown",
   "id": "65195c70-d4dd-47d3-8d9c-cb601f9bf2a3",
   "metadata": {},
   "source": [
    "- 225 언더는 데이터가 없기 때문에 확인할 수 없지만 235-240-245-250 까지는 5단위로 유저 수가 급증하는 것을 볼 수 있음\n",
    "- 250에서 정점을 찍은 후 급락함 그 이후로도 5단위로 수가 증가하는 것을 확인할 수 있음"
   ]
  },
  {
   "cell_type": "markdown",
   "id": "c291c49f-5a69-4ba4-b63b-4dfa3bba45df",
   "metadata": {},
   "source": [
    "## 2-2. popularity"
   ]
  },
  {
   "cell_type": "code",
   "execution_count": 30,
   "id": "a1db3359-722b-4a3d-b6d9-210dba5c1ca2",
   "metadata": {},
   "outputs": [
    {
     "data": {
      "text/plain": [
       "count    1.317420e+06\n",
       "mean     2.349699e+02\n",
       "std      1.663251e+03\n",
       "min     -9.215700e+04\n",
       "25%      2.000000e+00\n",
       "50%      1.600000e+01\n",
       "75%      1.000000e+02\n",
       "max      9.999900e+04\n",
       "Name: popularity, dtype: float64"
      ]
     },
     "execution_count": 30,
     "metadata": {},
     "output_type": "execute_result"
    }
   ],
   "source": [
    "# popularity는 NA가 없던 column으로, 음수 -92167부터 99999까지 분포한다\n",
    "data['popularity'].describe()"
   ]
  },
  {
   "cell_type": "code",
   "execution_count": 33,
   "id": "d3eabd90-5cf4-42c3-b2da-b402905f5a6e",
   "metadata": {},
   "outputs": [
    {
     "data": {
      "text/plain": [
       "<AxesSubplot: >"
      ]
     },
     "execution_count": 33,
     "metadata": {},
     "output_type": "execute_result"
    },
    {
     "data": {
      "image/png": "[encoded data removed]",
      "text/plain": [
       "<Figure size 640x480 with 1 Axes>"
      ]
     },
     "metadata": {},
     "output_type": "display_data"
    }
   ],
   "source": [
    "# 대부분 0 근처에서 분포함을 알 수 있음 (50%가 16, 75%가 100이니까)\n",
    "# 음수인 유저들도 단 한명의 -92167 제외 -250000이상으로 분포함\n",
    "# 이상치인 유저들 때문에 기이한 boxplot이 그려짐\n",
    "sns.boxplot(data['popularity'])"
   ]
  },
  {
   "cell_type": "code",
   "execution_count": 43,
   "id": "b7b49ef4-d929-49f9-a10f-fcdc1bfe2a35",
   "metadata": {},
   "outputs": [
    {
     "data": {
      "text/plain": [
       "<AxesSubplot: ylabel='Count'>"
      ]
     },
     "execution_count": 43,
     "metadata": {},
     "output_type": "execute_result"
    },
    {
     "data": {
      "image/png": "[encoded data removed]",
      "text/plain": [
       "<Figure size 640x480 with 1 Axes>"
      ]
     },
     "metadata": {},
     "output_type": "display_data"
    }
   ],
   "source": [
    "# Popularity의 최빈값은 0\n",
    "data['popularity'].mode()\n",
    "\n",
    "# 50%가 16이니까 16까지만 봐보자 (음수 이상치는 컷하고) => 좀 걸림\n",
    "# 왜도하고 첨도가 엄청 큰 분포일 것 같음\n",
    "pop_cut = data[(data['popularity']<=16)&(data['popularity']>=-20)]['popularity'].to_list()\n",
    "sns.histplot(pop_cut)"
   ]
  },
  {
   "cell_type": "code",
   "execution_count": 46,
   "id": "4fd262fd-1eaf-4ad6-ba08-912a44c9174c",
   "metadata": {},
   "outputs": [
    {
     "data": {
      "text/plain": [
       "(35.704632568915045, 1814.3702037535002)"
      ]
     },
     "execution_count": 46,
     "metadata": {},
     "output_type": "execute_result"
    }
   ],
   "source": [
    "# 실제로 왜도와 첨도 모두 엄청 큰 분포임\n",
    "# 이걸 조정해줘야 하나? 어차피 쓸 것도 아니고 도메인 놀리지에 의해 인기도는 큰 신뢰도 없는 변수라고 하니 그냥 무시하겠음\n",
    "skew(data['popularity']), kurtosis(data['popularity'])"
   ]
  },
  {
   "cell_type": "markdown",
   "id": "912fdab5-d93e-41cf-a4f4-f82d9a2f4473",
   "metadata": {},
   "source": [
    "## 2-3 ranking (total_ranking, world_ranking, class_world_ranking, class_total_ranking)"
   ]
  },
  {
   "cell_type": "code",
   "execution_count": 59,
   "id": "41fdf5d9-ea3c-41a9-8e95-5090dde9825a",
   "metadata": {},
   "outputs": [
    {
     "data": {
      "text/plain": [
       "375014     78\n",
       "1190515    13\n",
       "26192      13\n",
       "26624      13\n",
       "7869        8\n",
       "6607        8\n",
       "180547      8\n",
       "189050      8\n",
       "4888        8\n",
       "6697        8\n",
       "Name: total_ranking, dtype: int64"
      ]
     },
     "execution_count": 59,
     "metadata": {},
     "output_type": "execute_result"
    }
   ],
   "source": [
    "# 전체 랭킹이므로 절대 겹치지 않는 unique한 값일 것이라고 생각했으나 랭킹이 동일한 경우도 존재함\n",
    "# 특히 375014의 경우 78번이나 등장하는데 살펴볼 필요가 존재함\n",
    "data['total_ranking'].value_counts().head(10)"
   ]
  },
  {
   "cell_type": "code",
   "execution_count": 72,
   "id": "a22c96fa-29c8-431a-afe1-667d43d47eb8",
   "metadata": {},
   "outputs": [
    {
     "data": {
      "text/plain": [
       "774119     3.944\n",
       "1023453    0.000\n",
       "Name: exp, dtype: float64"
      ]
     },
     "execution_count": 72,
     "metadata": {},
     "output_type": "execute_result"
    }
   ],
   "source": [
    "# 랭킹이 같은 경우는 경험치가 소수점 첫째자리까지 동일하기 때문임\n",
    "# 넥슨의 랭킹 설명에 의하면 캐릭터의 레벨, 경험치를 기준으로 하며 결과가 같을 경우, 달성한 시간 순으로 순위가 결정된다고 함\n",
    "data[data['total_ranking']==375014]['exp'].value_counts(), data[data['total_ranking']==375014]['level'].value_counts() # 250\n",
    "data[data['total_ranking']==1190515]['exp'].value_counts(), data[data['total_ranking']==1190515]['level'].value_counts() # 231\n",
    "\n",
    "# 그러나 그 이하의 경우 경험치가 꽤 다른데도 같은 등수인데, 이를 좀 더 들여다 봐야겠음\n",
    "data[data['total_ranking']==26192]['exp'].value_counts()\n",
    "data[data['total_ranking']==7869]['exp'].value_counts()\n",
    "data[data['total_ranking']==6607]['exp'].value_counts()\n",
    "data[data['total_ranking']==180547]['exp'].value_counts()\n",
    "\n",
    "# 26192등에는 3.936도 있는데 26191등에는 0.0이 존재하기도 함\n",
    "# 왤까? 궁금하긴 하나 중요한 문제는 아니므로 넘어감\n",
    "data[data['total_ranking']==26192]['exp'] #3.936, 0.0\n",
    "data[data['total_ranking']==26191]['exp'] #3.944, 0.0\n",
    "data[data['total_ranking']==26193]['exp'] #3.935\n",
    "\n",
    "# 토탈 랭킹 제외 나머지는 중요하지 않다고 판단, 넘어가겠음"
   ]
  },
  {
   "cell_type": "markdown",
   "id": "c6d10b53-d263-4688-b75e-235d3a0c3e3a",
   "metadata": {},
   "source": [
    "## 2-4. mureung"
   ]
  },
  {
   "cell_type": "code",
   "execution_count": 85,
   "id": "a5b9c3ef-a233-4531-91cb-b497ef45ef77",
   "metadata": {},
   "outputs": [
    {
     "name": "stdout",
     "output_type": "stream",
     "text": [
      "count    817449.000000\n",
      "mean         45.877027\n",
      "std           9.627109\n",
      "min           1.000000\n",
      "25%          42.000000\n",
      "50%          47.000000\n",
      "75%          50.000000\n",
      "max          84.000000\n",
      "Name: mureung, dtype: float64\n",
      "49    70105\n",
      "47    66545\n",
      "46    61216\n",
      "45    55196\n",
      "48    54566\n",
      "43    39203\n",
      "38    37139\n",
      "44    35771\n",
      "42    35421\n",
      "50    35404\n",
      "51    31216\n",
      "29    27424\n",
      "41    24969\n",
      "52    22333\n",
      "40    19979\n",
      "53    16435\n",
      "54    14766\n",
      "19    14744\n",
      "55    14271\n",
      "59    11545\n",
      "Name: mureung, dtype: int64\n"
     ]
    },
    {
     "data": {
      "text/plain": [
       "<AxesSubplot: xlabel='mureung', ylabel='Count'>"
      ]
     },
     "execution_count": 85,
     "metadata": {},
     "output_type": "execute_result"
    },
    {
     "data": {
      "image/png": "[encoded data removed]",
      "text/plain": [
       "<Figure size 640x480 with 1 Axes>"
      ]
     },
     "metadata": {},
     "output_type": "display_data"
    }
   ],
   "source": [
    "# mureung의 경우 '기록이 없습니다.'를 -1로 처리했음\n",
    "# -1 즉 Null값의 비율은 0.3795\n",
    "data['mureung'].value_counts()[-1]/len(data) # 0.37950767409026737\n",
    "\n",
    "# -1을 제외한 나머지의 분포를 확인해보자\n",
    "mureung_cut = data[data['mureung']!=-1]['mureung']\n",
    "\n",
    "# 최저 1부터 시작하며 최대 84임 (평균이 45인데 25%~50%가 42~47에 존재하는 걸 보면 45근방에 많이 뭉쳐 있음)\n",
    "print(mureung_cut.describe())\n",
    "\n",
    "# 40~50 부근을 제외하면 메이플 레벨과 비슷하지만 또 다른 양상으로 49, 38, 29, 19, 처럼 10단위로 넘어가기 직전에 머무르는 유저가 많음\n",
    "print(mureung_cut.value_counts().head(20))\n",
    "\n",
    "sns.histplot(mureung_cut, binwidth=0.5)"
   ]
  },
  {
   "cell_type": "markdown",
   "id": "aa908af8-2850-458d-bd9e-ec1948701213",
   "metadata": {},
   "source": [
    "- 갑자기 numeric 분포 보는거 지겨워지고 뭔 의민지 모르겠어서 관둠\n",
    "- 추후 더 궁금해지면 다시 찾아와서 채워 넣겠음"
   ]
  },
  {
   "cell_type": "markdown",
   "id": "c355be03-b31b-4541-b839-ea72af1ef079",
   "metadata": {},
   "source": [
    "# 3. codi 정보 파악\n",
    "- 이름에 붙은 New는 일시적인게 아니고 영원히 붙어 있는 요소이다.\n",
    "- 공백이 두개가 있는 경우가 존재한다.\n",
    "- 이름에 숫자가 들어가 있는 경우가 존재한다. (ex 2010)\n",
    "- 이름에 대괄호가 들어가 있는 경우가 존재한다. (ex \\[BTS\\])"
   ]
  },
  {
   "cell_type": "code",
   "execution_count": 88,
   "id": "52004572-f114-494b-8220-5521ead65c49",
   "metadata": {},
   "outputs": [],
   "source": [
    "# 이름의 오류를 파악하기 위해 글자를 다 쪼개서 확인해보는 함수\n",
    "def get_sorted_set(column):\n",
    "    item_list = list(chain(*list(data[column].str.split(' ').values)))\n",
    "    item_set = Counter(item_list)\n",
    "    item_set = sorted(item_set.items(), key=lambda kv:kv[1], reverse=True)\n",
    "    return item_set"
   ]
  },
  {
   "cell_type": "code",
   "execution_count": 92,
   "id": "f83c56c0-2e2d-442d-9b11-d3b28e54e396",
   "metadata": {},
   "outputs": [
    {
     "data": {
      "text/plain": [
       "0.0038598169148790816"
      ]
     },
     "execution_count": 92,
     "metadata": {},
     "output_type": "execute_result"
    }
   ],
   "source": [
    "hat_set = get_sorted_set('codi-hat')\n",
    "hair_set = get_sorted_set('codi-hair')\n",
    "top_set = get_sorted_set('codi-top')\n",
    "bottom_set = get_sorted_set('codi-bottom')\n",
    "shoes_set = get_sorted_set('codi-shoes')\n",
    "weapon_set = get_sorted_set('codi-weapon')\n",
    "\n",
    "# face의 경우 #이 붙은 에러 데이터가 존재함 => 0.003이라서 무시해도 됨\n",
    "face_set = get_sorted_set('codi-face')\n",
    "data['codi-face'][data['codi-face'].str.find('#')!=-1].unique() # 22개\n",
    "len(data['codi-face'][data['codi-face'].str.find('#')!=-1])/len(data) # 0.003이라서 무시해도 됨"
   ]
  },
  {
   "cell_type": "markdown",
   "id": "c33bfd44-c3b4-449b-b17f-32cd32071c70",
   "metadata": {},
   "source": [
    "#### NA 비율 확인"
   ]
  },
  {
   "cell_type": "code",
   "execution_count": 104,
   "id": "846d0967-3507-497b-9de0-ba8aed6e4edf",
   "metadata": {},
   "outputs": [
    {
     "name": "stdout",
     "output_type": "stream",
     "text": [
      "hat : 0.10984424101653231\n",
      "hair : 0.1998246572846928\n",
      "face : 0.5834570600112341\n",
      "top : 0.04092544518832263\n",
      "bottom : 0.94659865494679\n",
      "shoes : 0.28216438189795207\n",
      "weapon : 0.11307631582942418\n"
     ]
    }
   ],
   "source": [
    "# null 값 비율 확인\n",
    "# face의 경우 절반 이상이 NA고 bottom은 94%가 NA임\n",
    "# 한벌 옷 때문이라는데 top에서 한벌 옷을 분리시켜줄 수 있나? -> bottom이 na+유저전체에 해당 상의에 하의를 입은 경우 X면 top을 한벌옷이라고 봐도 되지 않을까?\n",
    "check_codi_null = lambda x : print(f\"{x} :\", len(data[f'codi-{x}'][data[f'codi-{x}']=='-'])/len(data))\n",
    "check_codi_null('hat')\n",
    "check_codi_null('hair')\n",
    "check_codi_null('face')\n",
    "check_codi_null('top')\n",
    "check_codi_null('bottom')\n",
    "check_codi_null('shoes')\n",
    "check_codi_null('weapon')"
   ]
  },
  {
   "cell_type": "code",
   "execution_count": 147,
   "id": "d291cc40-8c4f-4d1a-94c4-34be1b478da1",
   "metadata": {},
   "outputs": [
    {
     "data": {
      "text/html": [
       "<div>\n",
       "<style scoped>\n",
       "    .dataframe tbody tr th:only-of-type {\n",
       "        vertical-align: middle;\n",
       "    }\n",
       "\n",
       "    .dataframe tbody tr th {\n",
       "        vertical-align: top;\n",
       "    }\n",
       "\n",
       "    .dataframe thead th {\n",
       "        text-align: right;\n",
       "    }\n",
       "</style>\n",
       "<table border=\"1\" class=\"dataframe\">\n",
       "  <thead>\n",
       "    <tr style=\"text-align: right;\">\n",
       "      <th></th>\n",
       "      <th>nickname</th>\n",
       "      <th>codi-hat</th>\n",
       "      <th>codi-hair</th>\n",
       "      <th>codi-face</th>\n",
       "      <th>codi-top</th>\n",
       "      <th>codi-bottom</th>\n",
       "      <th>codi-shoes</th>\n",
       "      <th>codi-weapon</th>\n",
       "      <th>level</th>\n",
       "      <th>class</th>\n",
       "      <th>...</th>\n",
       "      <th>class_total_ranking</th>\n",
       "      <th>guild</th>\n",
       "      <th>last_access</th>\n",
       "      <th>mureung</th>\n",
       "      <th>theseed</th>\n",
       "      <th>union</th>\n",
       "      <th>achievement</th>\n",
       "      <th>cur_chr</th>\n",
       "      <th>gcs_image_path</th>\n",
       "      <th>exp</th>\n",
       "    </tr>\n",
       "  </thead>\n",
       "  <tbody>\n",
       "    <tr>\n",
       "      <th>2761</th>\n",
       "      <td>진쿠렁</td>\n",
       "      <td>-</td>\n",
       "      <td>-</td>\n",
       "      <td>-</td>\n",
       "      <td>-</td>\n",
       "      <td>-</td>\n",
       "      <td>-</td>\n",
       "      <td>-</td>\n",
       "      <td>238</td>\n",
       "      <td>카인</td>\n",
       "      <td>...</td>\n",
       "      <td>8906</td>\n",
       "      <td>DeoVolente</td>\n",
       "      <td>22-12-20</td>\n",
       "      <td>-1</td>\n",
       "      <td>-1</td>\n",
       "      <td>-1</td>\n",
       "      <td>-1</td>\n",
       "      <td>https://avatar.maplestory.nexon.com/Character/...</td>\n",
       "      <td>image/user/진쿠렁/진쿠렁_22_12_20.png</td>\n",
       "      <td>64.490</td>\n",
       "    </tr>\n",
       "    <tr>\n",
       "      <th>2808</th>\n",
       "      <td>s율진나</td>\n",
       "      <td>-</td>\n",
       "      <td>-</td>\n",
       "      <td>-</td>\n",
       "      <td>-</td>\n",
       "      <td>-</td>\n",
       "      <td>-</td>\n",
       "      <td>-</td>\n",
       "      <td>238</td>\n",
       "      <td>나이트워커</td>\n",
       "      <td>...</td>\n",
       "      <td>13203</td>\n",
       "      <td>(없음)</td>\n",
       "      <td>22-10-20</td>\n",
       "      <td>-1</td>\n",
       "      <td>-1</td>\n",
       "      <td>-1</td>\n",
       "      <td>-1</td>\n",
       "      <td>https://avatar.maplestory.nexon.com/Character/...</td>\n",
       "      <td>image/user/s율진나/s율진나_22_12_20.png</td>\n",
       "      <td>64.293</td>\n",
       "    </tr>\n",
       "    <tr>\n",
       "      <th>5066</th>\n",
       "      <td>메인트로</td>\n",
       "      <td>-</td>\n",
       "      <td>-</td>\n",
       "      <td>-</td>\n",
       "      <td>-</td>\n",
       "      <td>-</td>\n",
       "      <td>-</td>\n",
       "      <td>-</td>\n",
       "      <td>238</td>\n",
       "      <td>카인</td>\n",
       "      <td>...</td>\n",
       "      <td>8944</td>\n",
       "      <td>(없음)</td>\n",
       "      <td>21-05-23</td>\n",
       "      <td>49</td>\n",
       "      <td>-1</td>\n",
       "      <td>-1</td>\n",
       "      <td>-1</td>\n",
       "      <td>https://avatar.maplestory.nexon.com/Character/...</td>\n",
       "      <td>image/user/메인트로/메인트로_22_12_20.png</td>\n",
       "      <td>57.051</td>\n",
       "    </tr>\n",
       "    <tr>\n",
       "      <th>5179</th>\n",
       "      <td>앴뱌</td>\n",
       "      <td>-</td>\n",
       "      <td>-</td>\n",
       "      <td>-</td>\n",
       "      <td>-</td>\n",
       "      <td>-</td>\n",
       "      <td>-</td>\n",
       "      <td>-</td>\n",
       "      <td>238</td>\n",
       "      <td>아델</td>\n",
       "      <td>...</td>\n",
       "      <td>80628</td>\n",
       "      <td>(없음)</td>\n",
       "      <td>22-07-07</td>\n",
       "      <td>45</td>\n",
       "      <td>-1</td>\n",
       "      <td>-1</td>\n",
       "      <td>-1</td>\n",
       "      <td>https://avatar.maplestory.nexon.com/Character/...</td>\n",
       "      <td>image/user/앴뱌/앴뱌_22_12_20.png</td>\n",
       "      <td>56.730</td>\n",
       "    </tr>\n",
       "    <tr>\n",
       "      <th>5767</th>\n",
       "      <td>단블e</td>\n",
       "      <td>-</td>\n",
       "      <td>-</td>\n",
       "      <td>-</td>\n",
       "      <td>-</td>\n",
       "      <td>-</td>\n",
       "      <td>-</td>\n",
       "      <td>-</td>\n",
       "      <td>238</td>\n",
       "      <td>듀얼블레이더</td>\n",
       "      <td>...</td>\n",
       "      <td>42281</td>\n",
       "      <td>(없음)</td>\n",
       "      <td>22-03-03</td>\n",
       "      <td>49</td>\n",
       "      <td>-1</td>\n",
       "      <td>-1</td>\n",
       "      <td>-1</td>\n",
       "      <td>https://avatar.maplestory.nexon.com/Character/...</td>\n",
       "      <td>image/user/단블e/단블e_22_12_20.png</td>\n",
       "      <td>54.980</td>\n",
       "    </tr>\n",
       "    <tr>\n",
       "      <th>...</th>\n",
       "      <td>...</td>\n",
       "      <td>...</td>\n",
       "      <td>...</td>\n",
       "      <td>...</td>\n",
       "      <td>...</td>\n",
       "      <td>...</td>\n",
       "      <td>...</td>\n",
       "      <td>...</td>\n",
       "      <td>...</td>\n",
       "      <td>...</td>\n",
       "      <td>...</td>\n",
       "      <td>...</td>\n",
       "      <td>...</td>\n",
       "      <td>...</td>\n",
       "      <td>...</td>\n",
       "      <td>...</td>\n",
       "      <td>...</td>\n",
       "      <td>...</td>\n",
       "      <td>...</td>\n",
       "      <td>...</td>\n",
       "      <td>...</td>\n",
       "    </tr>\n",
       "    <tr>\n",
       "      <th>1313779</th>\n",
       "      <td>DamKain</td>\n",
       "      <td>-</td>\n",
       "      <td>-</td>\n",
       "      <td>-</td>\n",
       "      <td>-</td>\n",
       "      <td>-</td>\n",
       "      <td>-</td>\n",
       "      <td>-</td>\n",
       "      <td>231</td>\n",
       "      <td>카인</td>\n",
       "      <td>...</td>\n",
       "      <td>17148</td>\n",
       "      <td>(없음)</td>\n",
       "      <td>23-01-03</td>\n",
       "      <td>-1</td>\n",
       "      <td>-1</td>\n",
       "      <td>-1</td>\n",
       "      <td>-1</td>\n",
       "      <td>https://avatar.maplestory.nexon.com/Character/...</td>\n",
       "      <td>image/user/DamKain/DamKain_23_01_03.png</td>\n",
       "      <td>0.187</td>\n",
       "    </tr>\n",
       "    <tr>\n",
       "      <th>1314508</th>\n",
       "      <td>카인강성윤</td>\n",
       "      <td>-</td>\n",
       "      <td>-</td>\n",
       "      <td>-</td>\n",
       "      <td>-</td>\n",
       "      <td>-</td>\n",
       "      <td>-</td>\n",
       "      <td>-</td>\n",
       "      <td>230</td>\n",
       "      <td>카인</td>\n",
       "      <td>...</td>\n",
       "      <td>17264</td>\n",
       "      <td>(없음)</td>\n",
       "      <td>22-07-12</td>\n",
       "      <td>-1</td>\n",
       "      <td>-1</td>\n",
       "      <td>-1</td>\n",
       "      <td>-1</td>\n",
       "      <td>https://avatar.maplestory.nexon.com/Character/...</td>\n",
       "      <td>image/user/카인강성윤/카인강성윤_22_07_12.png</td>\n",
       "      <td>85.073</td>\n",
       "    </tr>\n",
       "    <tr>\n",
       "      <th>1314602</th>\n",
       "      <td>너만혐사하냐</td>\n",
       "      <td>-</td>\n",
       "      <td>-</td>\n",
       "      <td>-</td>\n",
       "      <td>-</td>\n",
       "      <td>-</td>\n",
       "      <td>-</td>\n",
       "      <td>-</td>\n",
       "      <td>235</td>\n",
       "      <td>카인</td>\n",
       "      <td>...</td>\n",
       "      <td>13100</td>\n",
       "      <td>세상</td>\n",
       "      <td>23-01-09</td>\n",
       "      <td>-1</td>\n",
       "      <td>-1</td>\n",
       "      <td>-1</td>\n",
       "      <td>-1</td>\n",
       "      <td>https://avatar.maplestory.nexon.com/Character/...</td>\n",
       "      <td>image/user/너만혐사하냐/너만혐사하냐_23_01_09.png</td>\n",
       "      <td>2.832</td>\n",
       "    </tr>\n",
       "    <tr>\n",
       "      <th>1315792</th>\n",
       "      <td>줏mang겜</td>\n",
       "      <td>-</td>\n",
       "      <td>-</td>\n",
       "      <td>-</td>\n",
       "      <td>-</td>\n",
       "      <td>-</td>\n",
       "      <td>-</td>\n",
       "      <td>-</td>\n",
       "      <td>230</td>\n",
       "      <td>팬텀</td>\n",
       "      <td>...</td>\n",
       "      <td>20608</td>\n",
       "      <td>(없음)</td>\n",
       "      <td>22-03-07</td>\n",
       "      <td>-1</td>\n",
       "      <td>-1</td>\n",
       "      <td>-1</td>\n",
       "      <td>-1</td>\n",
       "      <td>https://avatar.maplestory.nexon.com/Character/...</td>\n",
       "      <td>image/user/줏mang겜/줏mang겜_22_03_07.png</td>\n",
       "      <td>82.700</td>\n",
       "    </tr>\n",
       "    <tr>\n",
       "      <th>1316240</th>\n",
       "      <td>미노짱케인</td>\n",
       "      <td>-</td>\n",
       "      <td>-</td>\n",
       "      <td>-</td>\n",
       "      <td>-</td>\n",
       "      <td>-</td>\n",
       "      <td>-</td>\n",
       "      <td>-</td>\n",
       "      <td>230</td>\n",
       "      <td>카인</td>\n",
       "      <td>...</td>\n",
       "      <td>17304</td>\n",
       "      <td>(없음)</td>\n",
       "      <td>22-02-06</td>\n",
       "      <td>-1</td>\n",
       "      <td>-1</td>\n",
       "      <td>-1</td>\n",
       "      <td>-1</td>\n",
       "      <td>https://avatar.maplestory.nexon.com/Character/...</td>\n",
       "      <td>image/user/미노짱케인/미노짱케인_22_02_06.png</td>\n",
       "      <td>81.927</td>\n",
       "    </tr>\n",
       "  </tbody>\n",
       "</table>\n",
       "<p>2380 rows × 24 columns</p>\n",
       "</div>"
      ],
      "text/plain": [
       "        nickname codi-hat codi-hair codi-face codi-top codi-bottom codi-shoes  \\\n",
       "2761         진쿠렁        -         -         -        -           -          -   \n",
       "2808        s율진나        -         -         -        -           -          -   \n",
       "5066        메인트로        -         -         -        -           -          -   \n",
       "5179          앴뱌        -         -         -        -           -          -   \n",
       "5767         단블e        -         -         -        -           -          -   \n",
       "...          ...      ...       ...       ...      ...         ...        ...   \n",
       "1313779  DamKain        -         -         -        -           -          -   \n",
       "1314508    카인강성윤        -         -         -        -           -          -   \n",
       "1314602   너만혐사하냐        -         -         -        -           -          -   \n",
       "1315792   줏mang겜        -         -         -        -           -          -   \n",
       "1316240    미노짱케인        -         -         -        -           -          -   \n",
       "\n",
       "        codi-weapon  level   class  ...  class_total_ranking       guild  \\\n",
       "2761              -    238      카인  ...                 8906  DeoVolente   \n",
       "2808              -    238   나이트워커  ...                13203        (없음)   \n",
       "5066              -    238      카인  ...                 8944        (없음)   \n",
       "5179              -    238      아델  ...                80628        (없음)   \n",
       "5767              -    238  듀얼블레이더  ...                42281        (없음)   \n",
       "...             ...    ...     ...  ...                  ...         ...   \n",
       "1313779           -    231      카인  ...                17148        (없음)   \n",
       "1314508           -    230      카인  ...                17264        (없음)   \n",
       "1314602           -    235      카인  ...                13100          세상   \n",
       "1315792           -    230      팬텀  ...                20608        (없음)   \n",
       "1316240           -    230      카인  ...                17304        (없음)   \n",
       "\n",
       "         last_access  mureung  theseed union achievement  \\\n",
       "2761        22-12-20       -1       -1    -1          -1   \n",
       "2808        22-10-20       -1       -1    -1          -1   \n",
       "5066        21-05-23       49       -1    -1          -1   \n",
       "5179        22-07-07       45       -1    -1          -1   \n",
       "5767        22-03-03       49       -1    -1          -1   \n",
       "...              ...      ...      ...   ...         ...   \n",
       "1313779     23-01-03       -1       -1    -1          -1   \n",
       "1314508     22-07-12       -1       -1    -1          -1   \n",
       "1314602     23-01-09       -1       -1    -1          -1   \n",
       "1315792     22-03-07       -1       -1    -1          -1   \n",
       "1316240     22-02-06       -1       -1    -1          -1   \n",
       "\n",
       "                                                   cur_chr  \\\n",
       "2761     https://avatar.maplestory.nexon.com/Character/...   \n",
       "2808     https://avatar.maplestory.nexon.com/Character/...   \n",
       "5066     https://avatar.maplestory.nexon.com/Character/...   \n",
       "5179     https://avatar.maplestory.nexon.com/Character/...   \n",
       "5767     https://avatar.maplestory.nexon.com/Character/...   \n",
       "...                                                    ...   \n",
       "1313779  https://avatar.maplestory.nexon.com/Character/...   \n",
       "1314508  https://avatar.maplestory.nexon.com/Character/...   \n",
       "1314602  https://avatar.maplestory.nexon.com/Character/...   \n",
       "1315792  https://avatar.maplestory.nexon.com/Character/...   \n",
       "1316240  https://avatar.maplestory.nexon.com/Character/...   \n",
       "\n",
       "                                  gcs_image_path     exp  \n",
       "2761             image/user/진쿠렁/진쿠렁_22_12_20.png  64.490  \n",
       "2808           image/user/s율진나/s율진나_22_12_20.png  64.293  \n",
       "5066           image/user/메인트로/메인트로_22_12_20.png  57.051  \n",
       "5179               image/user/앴뱌/앴뱌_22_12_20.png  56.730  \n",
       "5767             image/user/단블e/단블e_22_12_20.png  54.980  \n",
       "...                                          ...     ...  \n",
       "1313779  image/user/DamKain/DamKain_23_01_03.png   0.187  \n",
       "1314508      image/user/카인강성윤/카인강성윤_22_07_12.png  85.073  \n",
       "1314602    image/user/너만혐사하냐/너만혐사하냐_23_01_09.png   2.832  \n",
       "1315792    image/user/줏mang겜/줏mang겜_22_03_07.png  82.700  \n",
       "1316240      image/user/미노짱케인/미노짱케인_22_02_06.png  81.927  \n",
       "\n",
       "[2380 rows x 24 columns]"
      ]
     },
     "execution_count": 147,
     "metadata": {},
     "output_type": "execute_result"
    }
   ],
   "source": [
    "# 그렇다면 전부 NA인 유저가 있을까? 2380명\n",
    "# 분명 하나만 있거나 두개만 있는 애들도 있을텐데 얘네를 어찌해줘야 할 지 모르겠네\n",
    "data[(data['codi-hat']=='-')&(data['codi-hair']=='-')&(data['codi-face']=='-')&(data['codi-top']=='-')&(data['codi-bottom']=='-')&(data['codi-shoes']=='-')&(data['codi-weapon']=='-')]"
   ]
  },
  {
   "cell_type": "markdown",
   "id": "7538c66f-a1cd-4c18-90fb-86f0f59f8a8d",
   "metadata": {},
   "source": [
    "#### 자주 입는 옷 조합 확인하기\n",
    "- 전부 NA인 경우에는 삭제해줘야 함\n",
    "- 대체로 세트를 입는 경향이 있음 (131만명 중 40만명만이 자기만의 코디를 함 (성형/헤어 제외)"
   ]
  },
  {
   "cell_type": "code",
   "execution_count": 129,
   "id": "09c53ed7-d011-422d-baad-ef4e6033ed55",
   "metadata": {},
   "outputs": [
    {
     "name": "stdout",
     "output_type": "stream",
     "text": [
      "all users and duplicate codi-ed users:  1317420 911384\n"
     ]
    },
    {
     "data": {
      "text/html": [
       "<div>\n",
       "<style scoped>\n",
       "    .dataframe tbody tr th:only-of-type {\n",
       "        vertical-align: middle;\n",
       "    }\n",
       "\n",
       "    .dataframe tbody tr th {\n",
       "        vertical-align: top;\n",
       "    }\n",
       "\n",
       "    .dataframe thead th {\n",
       "        text-align: right;\n",
       "    }\n",
       "</style>\n",
       "<table border=\"1\" class=\"dataframe\">\n",
       "  <thead>\n",
       "    <tr style=\"text-align: right;\">\n",
       "      <th></th>\n",
       "      <th></th>\n",
       "      <th></th>\n",
       "      <th></th>\n",
       "      <th></th>\n",
       "      <th>0</th>\n",
       "    </tr>\n",
       "    <tr>\n",
       "      <th>codi-hat</th>\n",
       "      <th>codi-top</th>\n",
       "      <th>codi-bottom</th>\n",
       "      <th>codi-shoes</th>\n",
       "      <th>codi-weapon</th>\n",
       "      <th></th>\n",
       "    </tr>\n",
       "  </thead>\n",
       "  <tbody>\n",
       "    <tr>\n",
       "      <th rowspan=\"2\" valign=\"top\">달달 머리띠</th>\n",
       "      <th>츄츄 카페 소년</th>\n",
       "      <th>-</th>\n",
       "      <th>새콤 슬리퍼</th>\n",
       "      <th>츄릅 매듭팔찌</th>\n",
       "      <td>82365</td>\n",
       "    </tr>\n",
       "    <tr>\n",
       "      <th>츄츄 카페 소녀</th>\n",
       "      <th>-</th>\n",
       "      <th>새콤 슬리퍼</th>\n",
       "      <th>츄릅 매듭팔찌</th>\n",
       "      <td>64764</td>\n",
       "    </tr>\n",
       "    <tr>\n",
       "      <th>기억의 갈래</th>\n",
       "      <th>호수 물결</th>\n",
       "      <th>-</th>\n",
       "      <th>신기루 자욱</th>\n",
       "      <th>망각의 등불</th>\n",
       "      <td>21686</td>\n",
       "    </tr>\n",
       "    <tr>\n",
       "      <th>하이퍼 버닝 크라운</th>\n",
       "      <th>하이퍼 버닝 로브</th>\n",
       "      <th>-</th>\n",
       "      <th>-</th>\n",
       "      <th>하이퍼 버닝 소드</th>\n",
       "      <td>16573</td>\n",
       "    </tr>\n",
       "    <tr>\n",
       "      <th>-</th>\n",
       "      <th>-</th>\n",
       "      <th>-</th>\n",
       "      <th>-</th>\n",
       "      <th>-</th>\n",
       "      <td>15868</td>\n",
       "    </tr>\n",
       "    <tr>\n",
       "      <th>[BTS] 이클립스 페더</th>\n",
       "      <th>[BTS] 러브 인 스완</th>\n",
       "      <th>-</th>\n",
       "      <th>[BTS] 사일런트 나이트</th>\n",
       "      <th>[BTS] 라스트 페더</th>\n",
       "      <td>8246</td>\n",
       "    </tr>\n",
       "    <tr>\n",
       "      <th>흐드러진 악몽</th>\n",
       "      <th>아린 장미</th>\n",
       "      <th>-</th>\n",
       "      <th>악몽 무도곡</th>\n",
       "      <th>악몽 진주</th>\n",
       "      <td>7451</td>\n",
       "    </tr>\n",
       "    <tr>\n",
       "      <th>마이 퀸 티아라</th>\n",
       "      <th>페일 드림</th>\n",
       "      <th>-</th>\n",
       "      <th>속박의 매듭</th>\n",
       "      <th>악몽 시계</th>\n",
       "      <td>6840</td>\n",
       "    </tr>\n",
       "    <tr>\n",
       "      <th>시련의 무게</th>\n",
       "      <th>레이디 라비린스</th>\n",
       "      <th>-</th>\n",
       "      <th>해답의 조각</th>\n",
       "      <th>미궁의 연무</th>\n",
       "      <td>5937</td>\n",
       "    </tr>\n",
       "    <tr>\n",
       "      <th>영원 맹세</th>\n",
       "      <th>운명 집행관</th>\n",
       "      <th>-</th>\n",
       "      <th>떠도는 영원</th>\n",
       "      <th>운명의 데스티니</th>\n",
       "      <td>5518</td>\n",
       "    </tr>\n",
       "    <tr>\n",
       "      <th>시련의 무게</th>\n",
       "      <th>로드 라비린스</th>\n",
       "      <th>-</th>\n",
       "      <th>해답의 조각</th>\n",
       "      <th>미궁의 연무</th>\n",
       "      <td>5470</td>\n",
       "    </tr>\n",
       "    <tr>\n",
       "      <th>피어난 악몽</th>\n",
       "      <th>서린 장미</th>\n",
       "      <th>-</th>\n",
       "      <th>악몽 행진곡</th>\n",
       "      <th>악몽 진주</th>\n",
       "      <td>5188</td>\n",
       "    </tr>\n",
       "    <tr>\n",
       "      <th>별의 전언</th>\n",
       "      <th>꿈의 인도자</th>\n",
       "      <th>-</th>\n",
       "      <th>별빛 걸음</th>\n",
       "      <th>별의 전령</th>\n",
       "      <td>4835</td>\n",
       "    </tr>\n",
       "    <tr>\n",
       "      <th>하이퍼 버닝 크라운</th>\n",
       "      <th>하이퍼 버닝 로브</th>\n",
       "      <th>-</th>\n",
       "      <th>새콤 슬리퍼</th>\n",
       "      <th>하이퍼 버닝 소드</th>\n",
       "      <td>4811</td>\n",
       "    </tr>\n",
       "    <tr>\n",
       "      <th>어둠의 기사단모</th>\n",
       "      <th>어둠의 기사단복</th>\n",
       "      <th>-</th>\n",
       "      <th>어둠의 기사단화</th>\n",
       "      <th>어둠의 기사 표창</th>\n",
       "      <td>4654</td>\n",
       "    </tr>\n",
       "    <tr>\n",
       "      <th>별의 전언</th>\n",
       "      <th>꿈의 안내자</th>\n",
       "      <th>-</th>\n",
       "      <th>별빛 걸음</th>\n",
       "      <th>별의 전령</th>\n",
       "      <td>4285</td>\n",
       "    </tr>\n",
       "    <tr>\n",
       "      <th>신선 놀음 모자</th>\n",
       "      <th>신선 놀음 한벌옷</th>\n",
       "      <th>-</th>\n",
       "      <th>신선 놀음 신발</th>\n",
       "      <th>신선의 반딧불</th>\n",
       "      <td>4121</td>\n",
       "    </tr>\n",
       "    <tr>\n",
       "      <th>마이 퀸 티아라</th>\n",
       "      <th>엔들리스 드림</th>\n",
       "      <th>-</th>\n",
       "      <th>속박의 매듭</th>\n",
       "      <th>악몽 시계</th>\n",
       "      <td>3772</td>\n",
       "    </tr>\n",
       "    <tr>\n",
       "      <th>가려진 빛</th>\n",
       "      <th>화중신선</th>\n",
       "      <th>-</th>\n",
       "      <th>선녀의 자존심</th>\n",
       "      <th>천년의 약속</th>\n",
       "      <td>3722</td>\n",
       "    </tr>\n",
       "    <tr>\n",
       "      <th>하이퍼 버닝 크라운</th>\n",
       "      <th>하이퍼 버닝 로브</th>\n",
       "      <th>-</th>\n",
       "      <th>해와 달의 기사단화</th>\n",
       "      <th>하이퍼 버닝 소드</th>\n",
       "      <td>3464</td>\n",
       "    </tr>\n",
       "    <tr>\n",
       "      <th>영원 맹세</th>\n",
       "      <th>운명 심판관</th>\n",
       "      <th>-</th>\n",
       "      <th>머무른 영원</th>\n",
       "      <th>운명의 데스티니</th>\n",
       "      <td>3405</td>\n",
       "    </tr>\n",
       "    <tr>\n",
       "      <th>바람의 기사단모</th>\n",
       "      <th>바람의 기사단복</th>\n",
       "      <th>-</th>\n",
       "      <th>바람의 기사단화</th>\n",
       "      <th>바람의 기사 활</th>\n",
       "      <td>3359</td>\n",
       "    </tr>\n",
       "    <tr>\n",
       "      <th>미혹의 파편</th>\n",
       "      <th>그림자 영주</th>\n",
       "      <th>-</th>\n",
       "      <th>새벽 전진</th>\n",
       "      <th>여명의 빛</th>\n",
       "      <td>3315</td>\n",
       "    </tr>\n",
       "    <tr>\n",
       "      <th>흐드러진 악몽</th>\n",
       "      <th>서린 장미</th>\n",
       "      <th>-</th>\n",
       "      <th>악몽 행진곡</th>\n",
       "      <th>악몽 진주</th>\n",
       "      <td>3237</td>\n",
       "    </tr>\n",
       "    <tr>\n",
       "      <th>낙원의 증표</th>\n",
       "      <th>약속의 끝</th>\n",
       "      <th>-</th>\n",
       "      <th>이른 하교</th>\n",
       "      <th>피의 서약</th>\n",
       "      <td>3225</td>\n",
       "    </tr>\n",
       "    <tr>\n",
       "      <th>하이퍼 버닝 크라운</th>\n",
       "      <th>하이퍼 버닝 로브</th>\n",
       "      <th>-</th>\n",
       "      <th>바람의 기사단화</th>\n",
       "      <th>하이퍼 버닝 소드</th>\n",
       "      <td>3132</td>\n",
       "    </tr>\n",
       "    <tr>\n",
       "      <th>크로스 윙</th>\n",
       "      <th>판타스마 토트</th>\n",
       "      <th>-</th>\n",
       "      <th>블랙 포르테</th>\n",
       "      <th>죽음의 데스</th>\n",
       "      <td>3079</td>\n",
       "    </tr>\n",
       "    <tr>\n",
       "      <th>불의 기사단모</th>\n",
       "      <th>불의 기사단복</th>\n",
       "      <th>-</th>\n",
       "      <th>불의 기사단화</th>\n",
       "      <th>불의 기사 완드</th>\n",
       "      <td>2942</td>\n",
       "    </tr>\n",
       "    <tr>\n",
       "      <th>미드나잇 선글라스</th>\n",
       "      <th>미드나잇 캐주얼 셔츠</th>\n",
       "      <th>-</th>\n",
       "      <th>미드나잇 트윙클 스니커즈</th>\n",
       "      <th>미드나잇 코코넛 워터</th>\n",
       "      <td>2901</td>\n",
       "    </tr>\n",
       "    <tr>\n",
       "      <th>크로스 윙</th>\n",
       "      <th>판타스마 벨라</th>\n",
       "      <th>-</th>\n",
       "      <th>블랙 포르테</th>\n",
       "      <th>죽음의 데스</th>\n",
       "      <td>2750</td>\n",
       "    </tr>\n",
       "  </tbody>\n",
       "</table>\n",
       "</div>"
      ],
      "text/plain": [
       "                                                                         0\n",
       "codi-hat      codi-top      codi-bottom codi-shoes     codi-weapon        \n",
       "달달 머리띠        츄츄 카페 소년      -           새콤 슬리퍼         츄릅 매듭팔찌       82365\n",
       "              츄츄 카페 소녀      -           새콤 슬리퍼         츄릅 매듭팔찌       64764\n",
       "기억의 갈래        호수 물결         -           신기루 자욱         망각의 등불        21686\n",
       "하이퍼 버닝 크라운    하이퍼 버닝 로브     -           -              하이퍼 버닝 소드     16573\n",
       "-             -             -           -              -             15868\n",
       "[BTS] 이클립스 페더 [BTS] 러브 인 스완 -           [BTS] 사일런트 나이트 [BTS] 라스트 페더   8246\n",
       "흐드러진 악몽       아린 장미         -           악몽 무도곡         악몽 진주          7451\n",
       "마이 퀸 티아라      페일 드림         -           속박의 매듭         악몽 시계          6840\n",
       "시련의 무게        레이디 라비린스      -           해답의 조각         미궁의 연무         5937\n",
       "영원 맹세         운명 집행관        -           떠도는 영원         운명의 데스티니       5518\n",
       "시련의 무게        로드 라비린스       -           해답의 조각         미궁의 연무         5470\n",
       "피어난 악몽        서린 장미         -           악몽 행진곡         악몽 진주          5188\n",
       "별의 전언         꿈의 인도자        -           별빛 걸음          별의 전령          4835\n",
       "하이퍼 버닝 크라운    하이퍼 버닝 로브     -           새콤 슬리퍼         하이퍼 버닝 소드      4811\n",
       "어둠의 기사단모      어둠의 기사단복      -           어둠의 기사단화       어둠의 기사 표창      4654\n",
       "별의 전언         꿈의 안내자        -           별빛 걸음          별의 전령          4285\n",
       "신선 놀음 모자      신선 놀음 한벌옷     -           신선 놀음 신발       신선의 반딧불        4121\n",
       "마이 퀸 티아라      엔들리스 드림       -           속박의 매듭         악몽 시계          3772\n",
       "가려진 빛         화중신선          -           선녀의 자존심        천년의 약속         3722\n",
       "하이퍼 버닝 크라운    하이퍼 버닝 로브     -           해와 달의 기사단화     하이퍼 버닝 소드      3464\n",
       "영원 맹세         운명 심판관        -           머무른 영원         운명의 데스티니       3405\n",
       "바람의 기사단모      바람의 기사단복      -           바람의 기사단화       바람의 기사 활       3359\n",
       "미혹의 파편        그림자 영주        -           새벽 전진          여명의 빛          3315\n",
       "흐드러진 악몽       서린 장미         -           악몽 행진곡         악몽 진주          3237\n",
       "낙원의 증표        약속의 끝         -           이른 하교          피의 서약          3225\n",
       "하이퍼 버닝 크라운    하이퍼 버닝 로브     -           바람의 기사단화       하이퍼 버닝 소드      3132\n",
       "크로스 윙         판타스마 토트       -           블랙 포르테         죽음의 데스         3079\n",
       "불의 기사단모       불의 기사단복       -           불의 기사단화        불의 기사 완드       2942\n",
       "미드나잇 선글라스     미드나잇 캐주얼 셔츠   -           미드나잇 트윙클 스니커즈  미드나잇 코코넛 워터    2901\n",
       "크로스 윙         판타스마 벨라       -           블랙 포르테         죽음의 데스         2750"
      ]
     },
     "execution_count": 129,
     "metadata": {},
     "output_type": "execute_result"
    }
   ],
   "source": [
    "# 성형/헤어 제외 자기만의 옷 조합으로 입고 있는 경우를 확인해보자 (131만명 중 91만명이 유니크하지 않은 코디를 입고 있음)\n",
    "codi_df = data[['codi-hat', 'codi-top', 'codi-bottom', 'codi-shoes', 'codi-weapon']]\n",
    "codi_duplicate = codi_df[codi_df.duplicated()]\n",
    "print('all users and duplicate codi-ed users: ', len(data), len(codi_duplicate))\n",
    "\n",
    "# df를 보면 아예 모든 정보가 Na인 유저들이 있음 -> 이런 경우는 삭제해줘야 할 것 같음 (이미지도 함께 삭제해야 하는거 유의)\n",
    "# 츄츄아일랜드세트로 입고 있는 애들이 걍 엄청 많음\n",
    "# 도메인 전문가 말로는 모두 세트라고 함 -> 유저들은 대부분 자기 만의 조합을 만들기 보다는 세트 옷을 입는 경향이 있어 보임\n",
    "# 따라서 세트가 아닌 새로운 조합인데 어울리는 걸 추천해주려면 어떻게 해야 할까? 상관 없나.. 어차피 세트는 하나만 나올거고 그거 말고 다른 것도 순위권에 드니까\n",
    "codi_duplicate_count = codi_duplicate.value_counts().to_frame()\n",
    "codi_duplicate_count.head(30)"
   ]
  },
  {
   "cell_type": "markdown",
   "id": "f99f2a6d-5a5b-405e-a128-a898de572c06",
   "metadata": {},
   "source": [
    "### 아이템 별로 가장 많이 나온 아이템들을 살펴보자"
   ]
  },
  {
   "cell_type": "code",
   "execution_count": 238,
   "id": "596cf780-e105-43a0-97c4-46342b8bd605",
   "metadata": {},
   "outputs": [
    {
     "name": "stdout",
     "output_type": "stream",
     "text": [
      "달달 머리띠           160319\n",
      "-                144711\n",
      "하이퍼 버닝 크라운        75092\n",
      "기억의 갈래            23026\n",
      "[BTS] 이클립스 페더     18382\n",
      "시련의 무게            16604\n",
      "토끼 귀              14612\n",
      "흐드러진 악몽           12987\n",
      "영원 맹세             12284\n",
      "마이 퀸 티아라          11158\n",
      "Name: codi-hat, dtype: int64\n",
      "-----------------------------------\n",
      "-           263253\n",
      "아침등교 헤어      31026\n",
      "포숑 헤어        30772\n",
      "페르 헤어        24320\n",
      "데미안 헤어       21924\n",
      "신비 헤어        21637\n",
      "루시드 헤어       21391\n",
      "수호 헤어        21083\n",
      "매직 엘라 헤어     20234\n",
      "레드카펫 헤어      19219\n",
      "Name: codi-hair, dtype: int64\n",
      "-----------------------------------\n",
      "-             768658\n",
      "조용한 눈 얼굴      102408\n",
      "멍한 얼굴          39073\n",
      "차분한 헤헤 얼굴      36451\n",
      "꼬맹이 얼굴         32581\n",
      "루시드 얼굴         32424\n",
      "도발적인 아잉 얼굴     17633\n",
      "졸린 얼굴          16076\n",
      "아잉 얼굴          16007\n",
      "뾰로통 얼굴         10439\n",
      "Name: codi-face, dtype: int64\n",
      "-----------------------------------\n",
      "츄츄 카페 소년         91044\n",
      "하이퍼 버닝 로브        74088\n",
      "츄츄 카페 소녀         71025\n",
      "-                53916\n",
      "[BTS] 러브 인 스완    36723\n",
      "호수 물결            23144\n",
      "핑크빈 후디           16371\n",
      "특대 사이즈 와이셔츠      13342\n",
      "프롱 루즈핏           13192\n",
      "아린 장미            13121\n",
      "Name: codi-top, dtype: int64\n",
      "-----------------------------------\n",
      "-             1247068\n",
      "트릭스터 워리어팬츠       9910\n",
      "트릭스터 어새신팬츠       6735\n",
      "트릭스터 원더러팬츠       6549\n",
      "트릭스터 던위치팬츠       5306\n",
      "검은 정장 바지         4833\n",
      "[BTS] 딥 퍼플       4319\n",
      "트릭스터 레인져팬츠       3714\n",
      "진 천사 잠옷 하의       2837\n",
      "진 악마 잠옷 하의       2697\n",
      "Name: codi-bottom, dtype: int64\n",
      "-----------------------------------\n",
      "-                 371729\n",
      "새콤 슬리퍼            185908\n",
      "별빛 걸음              73789\n",
      "[BTS] 사일런트 나이트     69825\n",
      "신기루 자욱             22527\n",
      "미드나잇 트윙클 스니커즈      17677\n",
      "뭉게뭉게 무지개 신발        15193\n",
      "앱솔랩스 나이트슈즈         15153\n",
      "해답의 조각             14932\n",
      "푸른 악몽 구두           13176\n",
      "Name: codi-shoes, dtype: int64\n",
      "-----------------------------------\n",
      "츄릅 매듭팔찌      173493\n",
      "-            148969\n",
      "하이퍼 버닝 소드     88664\n",
      "악몽 진주         30879\n",
      "망각의 등불        22845\n",
      "미궁의 연무        22557\n",
      "피의 서약         22008\n",
      "웨이브의 야광봉      20036\n",
      "천년의 약속        19173\n",
      "별의 전령         16293\n",
      "Name: codi-weapon, dtype: int64\n",
      "-----------------------------------\n"
     ]
    }
   ],
   "source": [
    "# 이번엔 성형, 헤어까지 포함해보자\n",
    "# 신기하게도 바지는 탑5가 모두 트릭스터라는 세트(?)로 부터 출발한 것을 확인할 수 있다.\n",
    "# 확실히 애들이 바지는 많이 안 입는 것 같다.\n",
    "codi_df = data[['codi-hat', 'codi-hair', 'codi-face', 'codi-top', 'codi-bottom', 'codi-shoes', 'codi-weapon']]\n",
    "for column in codi_df.columns:\n",
    "    print(codi_df[column].value_counts()[:10])\n",
    "    print('-----------------------------------')"
   ]
  },
  {
   "cell_type": "markdown",
   "id": "24550164-c8e4-4d68-9fdc-2927257c3b23",
   "metadata": {},
   "source": [
    "#### 레벨에 따른 옷 경향성이 있나 확인해보자\n",
    "- 세트를 입으면 능력치를 올려주기 때문에 세트는 코디로서의 의미보다는 전투복의 느낌이 있다고 한다.\n",
    "- 또한 고레벨인 경우 강해져야 하니까 강제적으로 세트를 입게 되는 경향이 있다고 한다.\n",
    "- 따라서 저레벨인 경우 세트를 입는 경향성이 고레벨의 경우 보다 덜한지 확인해보자."
   ]
  },
  {
   "cell_type": "code",
   "execution_count": 143,
   "id": "60cfdc81-2c83-4cee-ab2c-313c072d5a7b",
   "metadata": {},
   "outputs": [
    {
     "name": "stderr",
     "output_type": "stream",
     "text": [
      "/tmp/ipykernel_34346/3649792247.py:8: SettingWithCopyWarning: \n",
      "A value is trying to be set on a copy of a slice from a DataFrame.\n",
      "Try using .loc[row_indexer,col_indexer] = value instead\n",
      "\n",
      "See the caveats in the documentation: https://pandas.pydata.org/pandas-docs/stable/user_guide/indexing.html#returning-a-view-versus-a-copy\n",
      "  codi_df['level'] = data['level']\n"
     ]
    },
    {
     "name": "stdout",
     "output_type": "stream",
     "text": [
      "360707 395824 273501 287388\n"
     ]
    }
   ],
   "source": [
    "# 우리 데이터는 애초에 225까지 밖에 긁어오지 않았기 때문에 전체 메이플 유저에 비하면 고레벨 쪽에 속해 있다.\n",
    "# 하지만 그 안에서의 경향성을 확인해 보도록 하자\n",
    "# 참고로 이때도 hair, face는 제외한다 -> 세트로 주어지긴 하지만 세트 '효과'를 안 주므로 끼는 건 본인의 의지이기 때문이다\n",
    "level_high = np.quantile(data['level'], .75)\n",
    "level_mid = np.quantile(data['level'], .50)\n",
    "level_low = np.quantile(data['level'], .25)\n",
    "\n",
    "codi_df['level'] = data['level']\n",
    "codi_high = codi_df[codi_df['level']>=level_high].drop(['level', 'codi-hair', 'codi-face'], axis=1)\n",
    "codi_mid_h = codi_df[(codi_df['level']>=level_mid)&(codi_df['level']<level_high)].drop(['level', 'codi-hair', 'codi-face'], axis=1)\n",
    "codi_mid_l = codi_df[(codi_df['level']>=level_low)&(codi_df['level']<level_mid)].drop(['level', 'codi-hair', 'codi-face'], axis=1)\n",
    "codi_low = codi_df[codi_df['level']<level_low].drop(['level', 'codi-hair', 'codi-face'], axis=1)\n",
    "print(len(codi_high), len(codi_mid_h), len(codi_mid_l), len(codi_low)) # 대강 비슷하게 나눠졌음"
   ]
  },
  {
   "cell_type": "code",
   "execution_count": 164,
   "id": "eaaa5a97-0614-4ab9-9d19-bfc846c29cd7",
   "metadata": {},
   "outputs": [
    {
     "name": "stdout",
     "output_type": "stream",
     "text": [
      "Only one-------------------------------------\n",
      "x의 Unique 코디 비율:  0.12667344964195315\n",
      "x의 Unique 코디 비율:  0.12834997372569626\n",
      "x의 Unique 코디 비율:  0.035312485146306596\n",
      "x의 Unique 코디 비율:  0.05014475204253483\n",
      "Under 10-------------------------------------\n",
      "x의 Unique 코디 비율:  0.17277180648005167\n",
      "x의 Unique 코디 비율:  0.1803453049840333\n",
      "x의 Unique 코디 비율:  0.05608754629781975\n",
      "x의 Unique 코디 비율:  0.07099809317020891\n"
     ]
    }
   ],
   "source": [
    "# 의외로 고레벨인 유저들이 더욱 유니크하게 코디를 한다고 볼 수 있음 (우리 데이터만 봐선)\n",
    "print('Only one-------------------------------------')\n",
    "unique_codi_rate = lambda x : print(f'x의 Unique 코디 비율: ', sum(x[x.duplicated()].value_counts().to_frame().reset_index(drop=False)[0]==1) / len(x))\n",
    "unique_codi_rate(codi_high)\n",
    "unique_codi_rate(codi_mid_h)\n",
    "unique_codi_rate(codi_mid_l)\n",
    "unique_codi_rate(codi_low)\n",
    "print('Under 10-------------------------------------')\n",
    "unique_codi_rate = lambda x : print(f'x의 Unique 코디 비율: ', sum(x[x.duplicated()].value_counts().to_frame().reset_index(drop=False)[0]<=10) / len(x))\n",
    "unique_codi_rate(codi_high)\n",
    "unique_codi_rate(codi_mid_h)\n",
    "unique_codi_rate(codi_mid_l)\n",
    "unique_codi_rate(codi_low)"
   ]
  },
  {
   "cell_type": "code",
   "execution_count": 165,
   "id": "4a478749-b392-465c-80a9-3ef4bbb7bde3",
   "metadata": {},
   "outputs": [
    {
     "name": "stdout",
     "output_type": "stream",
     "text": [
      "Only one-------------------------------------\n",
      "x의 Unique 코디 비율:  0.17485937339724486\n",
      "x의 Unique 코디 비율:  0.19814614576175268\n",
      "x의 Unique 코디 비율:  0.03836914673072493\n",
      "x의 Unique 코디 비율:  0.06395534956226426\n",
      "Under 10-------------------------------------\n",
      "x의 Unique 코디 비율:  0.22034781692620325\n",
      "x의 Unique 코디 비율:  0.25636646590403817\n",
      "x의 Unique 코디 비율:  0.05772922219662817\n",
      "x의 Unique 코디 비율:  0.08532367391818726\n"
     ]
    }
   ],
   "source": [
    "# 성형과 헤어까지 포함한다면 비율이 좀 늘어나겠지?\n",
    "# 놀랍게도 성형/헤어를 포함했음에도 불구하고 상대적 저레벨 유저들의 유니크 코디 비율은 늘어나지 않았음\n",
    "# 반면 상대적 고레벨 유저들의 유니크 비율은 꽤 높아졌는데, 이는 비슷한 코디를 하고 있더라도 성형/헤어로 자기만의 개성을 표현한 유저들이 많다고 해석해 볼 수 있음\n",
    "# 즉 성형/헤어가 유저에게 자신의 아이덴티티를 표현함에 있어 중요한 요소임\n",
    "# 시퀀스를 확인해봤다면 유저가 다른 옷에 비해 성형/헤어를 잘 안 바꾼다는 데이터를 볼 수 있었을 것 같은데 안타깝게도 없으므로 패스하자\n",
    "codi_high = codi_df[codi_df['level']>=level_high].drop(['level'], axis=1)\n",
    "codi_mid_h = codi_df[(codi_df['level']>=level_mid)&(codi_df['level']<level_high)].drop(['level'], axis=1)\n",
    "codi_mid_l = codi_df[(codi_df['level']>=level_low)&(codi_df['level']<level_mid)].drop(['level'], axis=1)\n",
    "codi_low = codi_df[codi_df['level']<level_low].drop(['level'], axis=1)\n",
    "print('Only one-------------------------------------')\n",
    "unique_codi_rate = lambda x : print(f'x의 Unique 코디 비율: ', sum(x[x.duplicated()].value_counts().to_frame().reset_index(drop=False)[0]==1) / len(x))\n",
    "unique_codi_rate(codi_high)\n",
    "unique_codi_rate(codi_mid_h)\n",
    "unique_codi_rate(codi_mid_l)\n",
    "unique_codi_rate(codi_low)\n",
    "print('Under 10-------------------------------------')\n",
    "unique_codi_rate = lambda x : print(f'x의 Unique 코디 비율: ', sum(x[x.duplicated()].value_counts().to_frame().reset_index(drop=False)[0]<=10) / len(x))\n",
    "unique_codi_rate(codi_high)\n",
    "unique_codi_rate(codi_mid_h)\n",
    "unique_codi_rate(codi_mid_l)\n",
    "unique_codi_rate(codi_low)"
   ]
  },
  {
   "cell_type": "markdown",
   "id": "e4543ca3-ea64-4b9a-8524-41b4f5860a88",
   "metadata": {},
   "source": [
    "# 4. last_access\n",
    "- NA의 경우 '-'"
   ]
  },
  {
   "cell_type": "code",
   "execution_count": 179,
   "id": "dade6787-85ec-4686-b567-c6bd9c7cda9d",
   "metadata": {},
   "outputs": [
    {
     "data": {
      "text/plain": [
       "(array([  9212.,  52867., 325056., 173734., 429878., 175028.,  61108.,\n",
       "         57192.,  32829.,    496.]),\n",
       " array([220. , 227.3, 234.6, 241.9, 249.2, 256.5, 263.8, 271.1, 278.4,\n",
       "        285.7, 293. ]),\n",
       " <BarContainer object of 10 artists>)"
      ]
     },
     "execution_count": 179,
     "metadata": {},
     "output_type": "execute_result"
    },
    {
     "data": {
      "image/png": "[encoded data removed]",
      "text/plain": [
       "<Figure size 640x480 with 1 Axes>"
      ]
     },
     "metadata": {},
     "output_type": "display_data"
    }
   ],
   "source": [
    "plt.hist(data[data['level']>=220]['level'].to_list())"
   ]
  },
  {
   "cell_type": "code",
   "execution_count": 198,
   "id": "1db5def4-9c86-4410-b031-07885899fcef",
   "metadata": {
    "tags": []
   },
   "outputs": [
    {
     "name": "stderr",
     "output_type": "stream",
     "text": [
      "/tmp/ipykernel_34346/4036620881.py:7: UserWarning: \n",
      "\n",
      "`distplot` is a deprecated function and will be removed in seaborn v0.14.0.\n",
      "\n",
      "Please adapt your code to use either `displot` (a figure-level function with\n",
      "similar flexibility) or `histplot` (an axes-level function for histograms).\n",
      "\n",
      "For a guide to updating your code to use the new functions, please see\n",
      "https://gist.github.com/mwaskom/de44147ed2974457ad6372750bbe5751\n",
      "\n",
      "  sns.distplot(l, ax=ax)\n",
      "/tmp/ipykernel_34346/4036620881.py:7: UserWarning: \n",
      "\n",
      "`distplot` is a deprecated function and will be removed in seaborn v0.14.0.\n",
      "\n",
      "Please adapt your code to use either `displot` (a figure-level function with\n",
      "similar flexibility) or `histplot` (an axes-level function for histograms).\n",
      "\n",
      "For a guide to updating your code to use the new functions, please see\n",
      "https://gist.github.com/mwaskom/de44147ed2974457ad6372750bbe5751\n",
      "\n",
      "  sns.distplot(l, ax=ax)\n"
     ]
    },
    {
     "data": {
      "image/png": "[encoded data removed]",
      "text/plain": [
       "<Figure size 640x480 with 1 Axes>"
      ]
     },
     "metadata": {},
     "output_type": "display_data"
    }
   ],
   "source": [
    "# NA 비율: 0.0008364834297338738로 별로 없음\n",
    "len(data[data['last_access']=='-']) / len(data)\n",
    "# level에 따른 NA 경향성이 있는지 확인해볼것\n",
    "# 고레벨 보다 저레벨 쪽에서 NA가 많음 -> 특정 날짜 이전은 -로 취급하는게 아닐까?\n",
    "la_na = data[data['last_access']=='-'][['level', 'last_access']]\n",
    "fig, ax = plt.subplots()\n",
    "for l in [la_na['level'].to_list(), data[data['level']>=220]['level'].to_list()]:\n",
    "    sns.distplot(l, ax=ax)"
   ]
  },
  {
   "cell_type": "code",
   "execution_count": 229,
   "id": "64dea130-1f39-445c-bddf-de06f715952c",
   "metadata": {},
   "outputs": [
    {
     "data": {
      "text/plain": [
       "count                          1316318\n",
       "mean     2022-10-04 10:54:46.815496192\n",
       "min                2018-10-19 00:00:00\n",
       "25%                2022-09-16 00:00:00\n",
       "50%                2022-12-14 00:00:00\n",
       "75%                2022-12-21 00:00:00\n",
       "max                2023-01-12 00:00:00\n",
       "Name: last_access, dtype: object"
      ]
     },
     "execution_count": 229,
     "metadata": {},
     "output_type": "execute_result"
    }
   ],
   "source": [
    "# 25%까지가 2022년에 하반기일정도로 액티브 유저가 많은 걸 확인 할 수 있음\n",
    "last_access_level = data[['level', 'last_access']]\n",
    "last_access_level = last_access_level[last_access_level['last_access']!='-']\n",
    "last_access_level['last_access'] = pd.to_datetime(last_access_level['last_access'], format='%y-%m-%d')\n",
    "last_access_level['last_access'].describe(datetime_is_numeric=True)"
   ]
  },
  {
   "cell_type": "code",
   "execution_count": 236,
   "id": "bf64bb62-82c9-4350-948b-c1431cdc1edd",
   "metadata": {},
   "outputs": [
    {
     "data": {
      "text/plain": [
       "<AxesSubplot: xlabel='last_access', ylabel='Count'>"
      ]
     },
     "execution_count": 236,
     "metadata": {},
     "output_type": "execute_result"
    },
    {
     "data": {
      "image/png": "[encoded data removed]",
      "text/plain": [
       "<Figure size 640x480 with 1 Axes>"
      ]
     },
     "metadata": {},
     "output_type": "display_data"
    }
   ],
   "source": [
    "# 전체를 봐보자 -> 크롤링 한 날짜 근방에 몰려 았는 것은 당연함\n",
    "sns.histplot(last_access_level['last_access'])"
   ]
  },
  {
   "cell_type": "code",
   "execution_count": null,
   "id": "726a524a-6278-4d53-94c3-2f415043b76d",
   "metadata": {},
   "outputs": [],
   "source": []
  }
 ],
 "metadata": {
  "kernelspec": {
   "display_name": "maple-project-TvhCNGkp-py3.8",
   "language": "python",
   "name": "python3"
  },
  "language_info": {
   "codemirror_mode": {
    "name": "ipython",
    "version": 3
   },
   "file_extension": ".py",
   "mimetype": "text/x-python",
   "name": "python",
   "nbconvert_exporter": "python",
   "pygments_lexer": "ipython3",
   "version": "3.8.15"
  },
  "vscode": {
   "interpreter": {
    "hash": "6742150a18e3b067bc8ee708e6344dd27b020006aa64fa524d66282649c9a517"
   }
  }
 },
 "nbformat": 4,
 "nbformat_minor": 5
}
