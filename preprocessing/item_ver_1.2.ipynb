{
 "cells": [
  {
   "cell_type": "code",
   "execution_count": 9,
   "metadata": {},
   "outputs": [],
   "source": [
    "import sys\n",
    "import os\n",
    "sys.path.append(os.path.dirname(os.path.abspath(\".\")))\n",
    "\n",
    "import pandas as pd\n",
    "from utils import GCSHelper\n",
    "from tqdm import tqdm\n",
    "import re\n",
    "gcs_helper = GCSHelper(\"../keys/gcs_key.json\")\n",
    "gcs_helper_preprocessed = GCSHelper(\"../keys/gcs_key.json\", bucket_name=\"maple_preprocessed_data\")"
   ]
  },
  {
   "cell_type": "code",
   "execution_count": 10,
   "metadata": {},
   "outputs": [],
   "source": [
    "df = gcs_helper_preprocessed.read_df_from_gcs(\"item_KMST_1149_VER1.1.csv\")\n",
    "\n",
    "# 모든 subCategory는 고유한 category를 가진다. (확인함)\n",
    "# subCategory가 Hat, Top, Face, Hair, Overall, Bottom, Shoes 인 경우 그대로 두고\n",
    "# 나머지 경우는 모두 무기이므로 (Cash도 한손무기인것을 확인) Weapon으로 민다. \n",
    "def equipCategory(x):\n",
    "    if x in [\"Hat\", \"Top\", \"Face\", \"Hair\", \"Overall\", \"Bottom\", \"Shoes\"]:\n",
    "        return x\n",
    "    return \"Weapon\"\n",
    "\n",
    "df[\"equipCategory\"] = df[\"subCategory\"].apply(equipCategory)"
   ]
  },
  {
   "cell_type": "code",
   "execution_count": 13,
   "metadata": {},
   "outputs": [],
   "source": [
    "gcs_helper_preprocessed.upload_df_to_gcs(\"item_KMST_1149_VER1.2.csv\", df)"
   ]
  }
 ],
 "metadata": {
  "kernelspec": {
   "display_name": "maple-project-TvhCNGkp-py3.8",
   "language": "python",
   "name": "python3"
  },
  "language_info": {
   "codemirror_mode": {
    "name": "ipython",
    "version": 3
   },
   "file_extension": ".py",
   "mimetype": "text/x-python",
   "name": "python",
   "nbconvert_exporter": "python",
   "pygments_lexer": "ipython3",
   "version": "3.8.15 (default, Jan 14 2023, 20:02:06) \n[GCC 7.5.0]"
  },
  "orig_nbformat": 4,
  "vscode": {
   "interpreter": {
    "hash": "6742150a18e3b067bc8ee708e6344dd27b020006aa64fa524d66282649c9a517"
   }
  }
 },
 "nbformat": 4,
 "nbformat_minor": 2
}
