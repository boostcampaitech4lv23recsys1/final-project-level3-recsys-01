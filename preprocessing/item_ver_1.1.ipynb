{
 "cells": [
  {
   "cell_type": "code",
   "execution_count": 7,
   "metadata": {},
   "outputs": [],
   "source": [
    "import sys\n",
    "import os\n",
    "sys.path.append(os.path.dirname(os.path.abspath(\".\")))\n",
    "\n",
    "import pandas as pd\n",
    "from utils import GCSHelper\n",
    "from tqdm import tqdm\n",
    "import re\n",
    "gcs_helper = GCSHelper(\"../keys/gcs_key.json\")\n",
    "gcs_helper_preprocessed = GCSHelper(\"../keys/gcs_key.json\", bucket_name=\"maple_preprocessed_data\")"
   ]
  },
  {
   "cell_type": "code",
   "execution_count": 95,
   "metadata": {},
   "outputs": [],
   "source": [
    "drop_list = [\n",
    "    \"nickname\",\n",
    "    \"codi-hat\",\n",
    "    \"codi-hair\",\n",
    "    \"codi-face\",\n",
    "    \"codi-top\",\n",
    "    \"codi-bottom\",\n",
    "    \"codi-shoes\",\n",
    "    \"codi-weapon\",\n",
    "    ]\n",
    "inter_df = gcs_helper.read_df_from_gcs(\"csv/user_detail_total.csv\").drop_duplicates(drop_list)\n",
    "item_df = gcs_helper_preprocessed.read_df_from_gcs(\"item_KMST_1149_VER1.0.csv\")\n",
    "# https://maple.inven.co.kr/dataninfo/item/\n",
    "# 여기서 찾아보면 id가 일치하는 것을 확인할 수 있음\n",
    "# 아직 잘은 몰라도 id가 maplestory.io랑 inven이 일치하는거 보면\n",
    "# 메이플에서 직접 지정되어 있는 id인듯?"
   ]
  },
  {
   "cell_type": "code",
   "execution_count": 96,
   "metadata": {},
   "outputs": [],
   "source": [
    "# None인 애들에 공통점이 공용인것을 확인했으니 Beginner로 채워줌\n",
    "item_df[\"requiredJobs\"] = item_df[\"requiredJobs\"].replace(\"None\", \"['Beginner']\")\n",
    "\n",
    "# 역시 0과 같은 것을 확인했으니 0으로 채워줌\n",
    "item_df[\"requiredLevel\"] = item_df[\"requiredLevel\"].replace(\"None\", 0)\n",
    "\n"
   ]
  },
  {
   "cell_type": "code",
   "execution_count": 97,
   "metadata": {},
   "outputs": [],
   "source": [
    "# item.csv 전처리\n",
    "\n",
    "# 먼저 이름이 그냥 None인 애들은 다 날려버리자. 29개의 이름이 None인 아이템이 있다.\n",
    "item_drop_none = item_df[item_df[\"name\"] != \"None\"]\n",
    "item_drop_none = item_drop_none[item_drop_none[\"name\"] != \"-\"]\n",
    "\n",
    "\n",
    "# 특수문자, 공백을 없애자. 진짜로 이거로 구분되는 아이템이 있다면.. 유감...\n",
    "# 이렇게 처리한 이름을 key로 사용하더라도, 보여줄 때는 본래의 이름으로 보여줄 수 있도록 원래 name도 유지한다. \n",
    "# 40524 개의 아이템에서 37558개의 아이템으로 줄어들었다. \n",
    "# pattern = r'[!@#$%^&*()_+-=`~,.<>/?\\s]'\n",
    "pattern = r'[!@#$%^&*()_+-=`~,.<>/?{}\\s\\[\\]]'\n",
    "item_drop_none[\"name_processed\"] = item_drop_none[\"name\"].apply(lambda x: re.sub(pattern, \"\", x.lower()))\n",
    "item_drop_none[\"name_processed\"].nunique()\n",
    "\n",
    "# 그 다음 이름이 동일한 아이템 리스트를 뽑아보자.\n",
    "# 겹치는 이름은 6617개.\n",
    "item_same_name = item_drop_none[\"name_processed\"].value_counts()[item_drop_none[\"name_processed\"].value_counts() != 1].index\n",
    "item_same_name.nunique()\n",
    "\n",
    "# 해당 아이템 그냥 한개만 남기고 다 날리자~\n",
    "# 날리고 나면 37556개의 row가 남는다. \n",
    "# 이제 이 값은 이름의 nunique와 동일하다. \n",
    "item_drop_duplicate = item_drop_none.drop_duplicates([\"name_processed\"]).reset_index(drop=True)"
   ]
  },
  {
   "cell_type": "code",
   "execution_count": 103,
   "metadata": {},
   "outputs": [
    {
     "data": {
      "text/plain": [
       "array(['Hat', 'Top', 'Face', 'Hair', 'Overall', 'Bottom', 'Shoes',\n",
       "       'Shining Rod', 'Bladecaster', 'Breath Shooter', 'Soul Shooter',\n",
       "       'Desperado', 'Whip Blade', 'Psy-limiter', 'Chain', 'Gauntlet',\n",
       "       'Ritual Fan', 'One-Handed Sword', 'One-Handed Axe',\n",
       "       'One-Handed Blunt Weapon', 'Dagger', 'Katara', 'Cane', 'Wand',\n",
       "       'Staff', 'Two-Handed Sword', 'Two-Handed Axe', 'Two-Handed Blunt',\n",
       "       'Spear', 'Pole Arm', 'Bow', 'Crossbow', 'Claw', 'Knuckle', 'Gun',\n",
       "       'Dual Bowgun', 'Hand Cannon', 'Lapis', 'Lazuli', 'Arm Cannon',\n",
       "       'Ancient Bow', 'Cash'], dtype=object)"
      ]
     },
     "execution_count": 103,
     "metadata": {},
     "output_type": "execute_result"
    }
   ],
   "source": [
    "item_drop_duplicate[\"subCategory\"].unique()"
   ]
  },
  {
   "cell_type": "code",
   "execution_count": 139,
   "metadata": {},
   "outputs": [],
   "source": [
    "# inter에 있는 아이템 모아보기\n",
    "# 마찬가지로 특수 문자 및 공백을 제거했다. \n",
    "# 소문자로도 변경하자.\n",
    "# 6796개의 unique한 아이템들이 나왔다. \n",
    "\n",
    "item_list_from_maple_gg = [\n",
    "    inter_df[\"codi-hat\"],\n",
    "    inter_df[\"codi-hair\"],\n",
    "    inter_df[\"codi-face\"],\n",
    "    inter_df[\"codi-top\"],\n",
    "    inter_df[\"codi-bottom\"],\n",
    "    inter_df[\"codi-shoes\"],\n",
    "    inter_df[\"codi-weapon\"],\n",
    "]\n",
    "pattern = r'[!@#$%^&*()_+-=`~,.<>/?{}\\s\\[\\]]'\n",
    "item_list_from_maple_gg = pd.concat(item_list_from_maple_gg).reset_index(drop=True).apply(lambda x: re.sub(pattern, \"\", x.lower()))\n",
    "item_list_from_maple_gg = item_list_from_maple_gg[item_list_from_maple_gg != \"\"].unique()"
   ]
  },
  {
   "cell_type": "code",
   "execution_count": 141,
   "metadata": {},
   "outputs": [],
   "source": [
    "# 이제 maplestory.io와 maple.gg의 데이터를 묶어보자. \n",
    "# 6796 개의 아이템 중, maplestory.io에 없는 놈들을 찾아보자. \n",
    "# 760개의 아이템은 이름이 정확히 일치하지 않고, 나머지 6036개는 이름이 정확히 일치한다. \n",
    "\n",
    "item_set_from_maplestory_io = set(item_drop_duplicate[\"name_processed\"].tolist())\n",
    "not_in_maplestory_io = set()\n",
    "can_use_name_directly_to_key = set()\n",
    "\n",
    "for item_name_from_maple_gg in item_list_from_maple_gg:\n",
    "    if item_name_from_maple_gg not in item_set_from_maplestory_io:\n",
    "        not_in_maplestory_io.add(item_name_from_maple_gg)\n",
    "    else:\n",
    "        can_use_name_directly_to_key.add(item_name_from_maple_gg)"
   ]
  },
  {
   "cell_type": "code",
   "execution_count": 143,
   "metadata": {},
   "outputs": [
    {
     "name": "stderr",
     "output_type": "stream",
     "text": [
      "100%|██████████| 761/761 [00:01<00:00, 523.59it/s]\n"
     ]
    }
   ],
   "source": [
    "# 이름이 정확히 일치하지 않는 것은 ~~색 헤어 이런 것 때문인 것으로 추정.\n",
    "# ~~색 이런 것을 고려해 완전히 일치하는 것이 아니라 포함 관계에 있는지 확인해보자.\n",
    "\n",
    "# 760 개의 아이템 중, 744개의 아이템은 이름이 포함되어 있음을 확인함.\n",
    "# 이 744개의 아이템을 포함하는 maplestory.io 출신 아이템 이름은 6073개\n",
    "\n",
    "\n",
    "# 760 개의 아이템 중, 포함 관계로 key를 만들 수 있는 maple.gg의 아이템들\n",
    "in_maplestory_io_use_contain = set()\n",
    "\n",
    "\n",
    "# maplestory.io의 아이템 중 maple.gg의 아이템 이름과 동일하지는 않으나\n",
    "# maple.gg의 아이템 이름을 포함하고 있는 아이템 이름\n",
    "# ex. 칼날 헤어 in maple.gg, 검은색 칼날 헤어 in maplestory.io\n",
    "can_use_name_to_key_with_small_fix = set()\n",
    "\n",
    "# 798 개 아이템 하나씩 확인\n",
    "for item_name_from_maple_gg in tqdm(not_in_maplestory_io):\n",
    "    # maplestory.io의 아이템들이랑 하나씩 비교\n",
    "    for item_name_from_maplestory_io in item_set_from_maplestory_io:\n",
    "\n",
    "        if item_name_from_maple_gg in item_name_from_maplestory_io:\n",
    "            in_maplestory_io_use_contain.add(item_name_from_maple_gg)\n",
    "            can_use_name_to_key_with_small_fix.add(item_name_from_maplestory_io)"
   ]
  },
  {
   "cell_type": "code",
   "execution_count": 145,
   "metadata": {},
   "outputs": [
    {
     "name": "stderr",
     "output_type": "stream",
     "text": [
      "100%|██████████| 5878/5878 [00:09<00:00, 599.47it/s]\n"
     ]
    }
   ],
   "source": [
    "# 상남자 특) ~~ 색 그냥 지워버림\n",
    "# 일단 무턱대고 다 지우기 보다는 can_use_name_to_key_with_small_fix 여기 속한 애들만 좀 지워보자. \n",
    "# 6073개의 아이템들에서 ~~색 이라는 부분을 싹 다 지워서 item_drop_color를 만들어봤다. \n",
    "item_drop_color = item_drop_duplicate.copy()\n",
    "pattern = r'^.{2}색'\n",
    "for item_name_from_maplestory_io in tqdm(can_use_name_to_key_with_small_fix):\n",
    "    item_drop_color.loc[item_drop_color[\"name_processed\"] == item_name_from_maplestory_io, \"name_processed\"] = re.sub(pattern, \"\", item_name_from_maplestory_io)\n",
    "\n",
    "item_drop_color = item_drop_color.drop_duplicates([\"name_processed\"]).reset_index(drop=True)\n"
   ]
  },
  {
   "cell_type": "code",
   "execution_count": 146,
   "metadata": {},
   "outputs": [],
   "source": [
    "# 이제 새롭게 만들어진 item_drop_color를 이용해서 위의 과정을 그대로 반복해보자.\n",
    "# 28개가 아직도 짝이 안맞고, 6768개는 이제 이름을 곧바로 key로 사용할 수 있다. \n",
    "\n",
    "item_set_from_maplestory_io = set(item_drop_color[\"name_processed\"].tolist())\n",
    "not_in_maplestory_io = set()\n",
    "can_use_name_directly_to_key = set()\n",
    "\n",
    "for item_name_from_maple_gg in item_list_from_maple_gg:\n",
    "    if item_name_from_maple_gg not in item_set_from_maplestory_io:\n",
    "        not_in_maplestory_io.add(item_name_from_maple_gg)\n",
    "    else:\n",
    "        can_use_name_directly_to_key.add(item_name_from_maple_gg)\n"
   ]
  },
  {
   "cell_type": "code",
   "execution_count": 147,
   "metadata": {},
   "outputs": [
    {
     "data": {
      "text/plain": [
       "(21, 6774, 12350)"
      ]
     },
     "execution_count": 147,
     "metadata": {},
     "output_type": "execute_result"
    }
   ],
   "source": [
    "not_in_maplestory_io.__len__(), can_use_name_directly_to_key.__len__(), item_set_from_maplestory_io.__len__()"
   ]
  },
  {
   "cell_type": "code",
   "execution_count": 151,
   "metadata": {},
   "outputs": [
    {
     "name": "stderr",
     "output_type": "stream",
     "text": [
      "1015758it [01:28, 11531.36it/s]\n"
     ]
    }
   ],
   "source": [
    "# 28개가 하나라도 포함된 row가 몇개나 있는지 확인해보자. \n",
    "# 130만개중, 7245개의 row에 해당 아이템들이 포함된다. \n",
    "# 약 0.5%의 비중이므로 그냥 무시하자. \n",
    "# 이름, 장비가 모두 같은 경우를 drop했을때는 약 0.58%의 비중을 갖는다. 무시해도 된다!\n",
    "\n",
    "row_not_matched = []\n",
    "pattern = r'[!@#$%^&*()_+-=`~,.<>/?{}\\s\\[\\]]'\n",
    "\n",
    "\n",
    "for i, row in tqdm(inter_df.iterrows()):\n",
    "    codi_list = [\n",
    "        re.sub(pattern, \"\", row[\"codi-hat\"].lower()),\n",
    "        re.sub(pattern, \"\", row[\"codi-hair\"].lower()),\n",
    "        re.sub(pattern, \"\", row[\"codi-face\"].lower()),\n",
    "        re.sub(pattern, \"\", row[\"codi-top\"].lower()),\n",
    "        re.sub(pattern, \"\", row[\"codi-bottom\"].lower()),\n",
    "        re.sub(pattern, \"\", row[\"codi-shoes\"].lower()),\n",
    "        re.sub(pattern, \"\", row[\"codi-weapon\"].lower())\n",
    "    ]\n",
    "    for codi_item in codi_list:\n",
    "        if codi_item == \"\":\n",
    "            continue\n",
    "\n",
    "        if codi_item not in item_set_from_maplestory_io:\n",
    "            row_not_matched.append(row)\n",
    "            break"
   ]
  },
  {
   "cell_type": "code",
   "execution_count": 153,
   "metadata": {},
   "outputs": [
    {
     "data": {
      "text/plain": [
       "1201"
      ]
     },
     "execution_count": 153,
     "metadata": {},
     "output_type": "execute_result"
    }
   ],
   "source": [
    "len(row_not_matched)"
   ]
  },
  {
   "cell_type": "code",
   "execution_count": 154,
   "metadata": {},
   "outputs": [],
   "source": [
    "item_drop_color[\"requiredGender\"] = item_drop_color[\"requiredGender\"].apply(lambda x: min(x, 2))"
   ]
  },
  {
   "cell_type": "code",
   "execution_count": 155,
   "metadata": {},
   "outputs": [],
   "source": [
    "gcs_helper_preprocessed.upload_df_to_gcs(\"item_KMST_1149_VER1.1.csv\", item_drop_color)"
   ]
  },
  {
   "attachments": {},
   "cell_type": "markdown",
   "metadata": {},
   "source": [
    "### 흐름 정리\n",
    "\n",
    " - 현재 가지고 있는 130만개의 데이터를 이용해서 item.csv에 name_processed column을 새로 만든다. \n",
    " - 해당 컬럼은 다음과 같은 프로세싱 과정을 거친 결과다.\n",
    "   - name column에서 특수문자 및 공백을 모두 제거한다. \n",
    "   - 영어는 모두 소문자로 변환한다.\n",
    "   - 130만개의 데이터에 대해서 maple.gg와 maplestory.io의 아이템 이름이 정확히 일치하지 않는 경우의 maple.gg의 아이템 리스트를 골라낸다. \n",
    "   - 해당하는 아이템 리스트는 \"~~색 무슨 헤어\"에서 \"~색\" 때문인 경우가 매우 많다.\n",
    "   - 이 \"~색\" 을 제거하면 이름이 정확히 일치하는 경우가 많다. \n",
    "   - 따라서 이런 처리를 해줬을 때 정확히 일치하게 되는 maplestory.io의 아이템 이름들에 대해서, \"~색\"을 제거한다. \n",
    " - 이 과정을 통해 얻은 name_processed column은 maple.gg의 코디 정보에서 특수문자, 공백을 제거한 이름을 99.5%까지 커버 가능하다. \n",
    " - 따라서, 0.5% 가량은 무시하고, 이렇게 얻은 name_processed column을 key로 사용한다. \n",
    "   - 일치하지 않은 경우, row는 버린다. \n",
    "   - 추후, data가 더 모이면 물론 더 정확한 name_processed column을 만들 수 있다. 하지만, 무시한다. "
   ]
  }
 ],
 "metadata": {
  "kernelspec": {
   "display_name": "maple-project-TvhCNGkp-py3.8",
   "language": "python",
   "name": "python3"
  },
  "language_info": {
   "codemirror_mode": {
    "name": "ipython",
    "version": 3
   },
   "file_extension": ".py",
   "mimetype": "text/x-python",
   "name": "python",
   "nbconvert_exporter": "python",
   "pygments_lexer": "ipython3",
   "version": "3.8.15"
  },
  "orig_nbformat": 4,
  "vscode": {
   "interpreter": {
    "hash": "6742150a18e3b067bc8ee708e6344dd27b020006aa64fa524d66282649c9a517"
   }
  }
 },
 "nbformat": 4,
 "nbformat_minor": 2
}
